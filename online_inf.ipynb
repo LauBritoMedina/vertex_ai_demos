{
 "cells": [
  {
   "cell_type": "code",
   "execution_count": 1,
   "id": "25a503dd-22bd-472d-a3e1-5ec7794866dc",
   "metadata": {},
   "outputs": [],
   "source": [
    "## 2.1.1. Environment preparation\n",
    "from google.cloud import aiplatform \n",
    "aiplatform.init()"
   ]
  },
  {
   "cell_type": "code",
   "execution_count": 8,
   "id": "f0c34f94-7cf6-479c-95f8-61a7795f5576",
   "metadata": {},
   "outputs": [],
   "source": [
    "## VARS\n",
    "# 2.1.2. Prediction container\n",
    "serving_container_image_uri = \"europe-docker.pkg.dev/vertex-ai/prediction/tf2-cpu.2-8:latest\" # Prebuilt container image URI - No GPU\n",
    "\n",
    "# Model Registry\n",
    "gcs_artifact_uri = \"gs://iris_demo/saved_model_iris\"\n",
    "location = \"europe-west1\"\n",
    "model_display_name = \"online_inf_demo_iris\"\n",
    "# Endpoint variables\n",
    "endpoint_id_prefix=\"projects/606366714896/locations/\" + location + \"/endpoints/\"\n",
    "endpoint_id=\"4\"\n",
    "display_name=\"demo_online_inf\"\n",
    "ep_id_uri = endpoint_id_prefix + endpoint_id"
   ]
  },
  {
   "cell_type": "code",
   "execution_count": 5,
   "id": "c95b93c6-885f-49db-a91b-be38307f344f",
   "metadata": {},
   "outputs": [
    {
     "name": "stdout",
     "output_type": "stream",
     "text": [
      "Creating Model\n",
      "Create Model backing LRO: projects/606366714896/locations/europe-west1/models/163695291143290880/operations/570173744815800320\n",
      "Model created. Resource name: projects/606366714896/locations/europe-west1/models/163695291143290880\n",
      "To use this Model in another session:\n",
      "model = aiplatform.Model('projects/606366714896/locations/europe-west1/models/163695291143290880')\n"
     ]
    }
   ],
   "source": [
    "# 2.1.3. Upload model from GCS to Vertex AI\n",
    "model = aiplatform.Model.upload(\n",
    "    serving_container_image_uri=serving_container_image_uri,\n",
    "    artifact_uri=gcs_artifact_uri,\n",
    "    location=location,\n",
    "    display_name=model_display_name\n",
    ")"
   ]
  },
  {
   "cell_type": "code",
   "execution_count": 7,
   "id": "08e1e2a4-7652-4231-9f1a-f3dfea7b1a5b",
   "metadata": {},
   "outputs": [
    {
     "name": "stdout",
     "output_type": "stream",
     "text": [
      "projects/606366714896/locations/europe-west1/models/163695291143290880\n"
     ]
    }
   ],
   "source": [
    "print(model.resource_name)"
   ]
  },
  {
   "cell_type": "code",
   "execution_count": 10,
   "id": "cd2406f1-58f4-43bc-a76a-8b4a0d253bcf",
   "metadata": {},
   "outputs": [
    {
     "name": "stdout",
     "output_type": "stream",
     "text": [
      "Endpoint already exists\n"
     ]
    }
   ],
   "source": [
    "# 2.1.4. Creating endpoint\n",
    "try:\n",
    "    endpoint = aiplatform.Endpoint.create(\n",
    "        endpoint_id=endpoint_id,\n",
    "        location=location, \n",
    "        display_name=display_name\n",
    "    )\n",
    "except:\n",
    "    endpoint = aiplatform.Endpoint(endpoint_name = endpoint_id_prefix + endpoint_id)\n",
    "    print(\"Endpoint already exists\")\n"
   ]
  },
  {
   "cell_type": "code",
   "execution_count": 11,
   "id": "eac2cd81-6dfb-472e-824a-191774755cd8",
   "metadata": {},
   "outputs": [
    {
     "name": "stdout",
     "output_type": "stream",
     "text": [
      "projects/606366714896/locations/europe-west1/endpoints/4\n"
     ]
    }
   ],
   "source": [
    "print(endpoint.resource_name)"
   ]
  },
  {
   "cell_type": "code",
   "execution_count": 19,
   "id": "2d13b825-a69f-4eff-bff7-ea9bfdd11e57",
   "metadata": {},
   "outputs": [
    {
     "name": "stdout",
     "output_type": "stream",
     "text": [
      "Deploying model to Endpoint : projects/606366714896/locations/europe-west1/endpoints/3\n",
      "Using default machine_type: n1-standard-2\n",
      "Deploy Endpoint model backing LRO: projects/606366714896/locations/europe-west1/endpoints/3/operations/3880319470933114880\n",
      "Endpoint model deployed. Resource name: projects/606366714896/locations/europe-west1/endpoints/3\n"
     ]
    },
    {
     "data": {
      "text/plain": [
       "<google.cloud.aiplatform.models.Endpoint object at 0x7fb5ba130ad0> \n",
       "resource name: projects/606366714896/locations/europe-west1/endpoints/3"
      ]
     },
     "execution_count": 19,
     "metadata": {},
     "output_type": "execute_result"
    }
   ],
   "source": [
    "# 2.1.5. Deploying the model from Model Registry to an endpoint\n",
    "model = aiplatform.Model(model_name=model.resource_name)\n",
    "endpoint = aiplatform.Endpoint(endpoint_name=endpoint.resource_name)\n",
    "\n",
    "model.deploy(\n",
    "    endpoint=endpoint\n",
    ")"
   ]
  },
  {
   "cell_type": "code",
   "execution_count": 20,
   "id": "d7ce8377-806d-4385-9a24-c84ef68c1720",
   "metadata": {},
   "outputs": [],
   "source": [
    "endpoint = aiplatform.Endpoint(endpoint_name=\"projects/606366714896/locations/europe-west1/endpoints/4\")"
   ]
  },
  {
   "cell_type": "code",
   "execution_count": 24,
   "id": "b2709a9f-100e-4539-8b9e-962b9daa4e12",
   "metadata": {},
   "outputs": [],
   "source": [
    "example_instance=[{\n",
    "    'sepal_length': 4.5, \n",
    "    'sepal_width': 2.3, \n",
    "    'petal_length': 1.3, \n",
    "    'petal_width':0.3\n",
    "}]"
   ]
  },
  {
   "cell_type": "code",
   "execution_count": 26,
   "id": "6be22353-ddf9-4c65-9d7c-ac93f542c21f",
   "metadata": {},
   "outputs": [],
   "source": [
    "example_instance=[\n",
    "    {\n",
    "    'sepal_length': 4.5, \n",
    "    'sepal_width': 2.3, \n",
    "    'petal_length': 1.3, \n",
    "    'petal_width':0.3\n",
    "    },\n",
    "    {\n",
    "    'sepal_length': 4.0, \n",
    "    'sepal_width': 3.3, \n",
    "    'petal_length': 1.4, \n",
    "    'petal_width':0.2\n",
    "    }\n",
    "]\n",
    "    "
   ]
  },
  {
   "cell_type": "code",
   "execution_count": 27,
   "id": "ba8f3883-cfde-445d-9aa8-d6a722840b71",
   "metadata": {},
   "outputs": [
    {
     "name": "stdout",
     "output_type": "stream",
     "text": [
      "Prediction(predictions=[[0.460576326], [0.476884604]], deployed_model_id='4586511600197828608', explanations=None)\n"
     ]
    }
   ],
   "source": [
    "print(endpoint.predict(instances=example_instance))"
   ]
  },
  {
   "cell_type": "code",
   "execution_count": 15,
   "id": "b9ebdd1c-cdc8-4d4a-bcad-a88a46f98273",
   "metadata": {},
   "outputs": [
    {
     "name": "stdout",
     "output_type": "stream",
     "text": [
      "Prediction(predictions=[[0.403363079]], deployed_model_id='6849570412951502848', explanations=None)\n"
     ]
    }
   ],
   "source": [
    "print(endpoint.predict([{'sepal_length':5.1, 'sepal_width':2.5, 'petal_length':3.0,'petal_width':1.1}]))"
   ]
  }
 ],
 "metadata": {
  "environment": {
   "kernel": "demo_env",
   "name": "common-cpu.m92",
   "type": "gcloud",
   "uri": "gcr.io/deeplearning-platform-release/base-cpu:m92"
  },
  "kernelspec": {
   "display_name": "Python (demo_env)",
   "language": "python",
   "name": "demo_env"
  },
  "language_info": {
   "codemirror_mode": {
    "name": "ipython",
    "version": 3
   },
   "file_extension": ".py",
   "mimetype": "text/x-python",
   "name": "python",
   "nbconvert_exporter": "python",
   "pygments_lexer": "ipython3",
   "version": "3.7.12"
  }
 },
 "nbformat": 4,
 "nbformat_minor": 5
}
